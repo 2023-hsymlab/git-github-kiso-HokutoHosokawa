{
 "cells": [
  {
   "cell_type": "code",
   "execution_count": 8,
   "metadata": {},
   "outputs": [],
   "source": [
    "import pydata_google_auth, os\n",
    "CLIENT_ID = '965154988853-jvm31hnjsundnirvjc74r6n97mklnq55.apps.googleusercontent.com'\n",
    "CLIENT_SECRET = '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'\n",
    "scoped_credentials = pydata_google_auth.get_user_credentials(\n",
    "  [\n",
    "    #'https://www.googleapis.com/auth/cloud-platform',\n",
    "    #'https://www.googleapis.com/auth/analytics.readonly'\n",
    "  ],\n",
    "  client_id=CLIENT_ID,\n",
    "  client_secret=CLIENT_SECRET,\n",
    "  #credentials_cache=pydata_google_auth.cache.ReadWriteCredentialsCache(dirname=os.path.abspath('.'), filename='pydata_google_credentials.json')\n",
    ")"
   ]
  },
  {
   "cell_type": "code",
   "execution_count": 9,
   "metadata": {},
   "outputs": [
    {
     "ename": "TypeError",
     "evalue": "get_user_credentials() missing 1 required positional argument: 'scopes'",
     "output_type": "error",
     "traceback": [
      "\u001b[0;31m---------------------------------------------------------------------------\u001b[0m",
      "\u001b[0;31mTypeError\u001b[0m                                 Traceback (most recent call last)",
      "Cell \u001b[0;32mIn[9], line 1\u001b[0m\n\u001b[0;32m----> 1\u001b[0m scoped_credentials \u001b[39m=\u001b[39m pydata_google_auth\u001b[39m.\u001b[39;49mget_user_credentials(client_id\u001b[39m=\u001b[39;49mCLIENT_ID, client_secret\u001b[39m=\u001b[39;49m CLIENT_SECRET)\n",
      "\u001b[0;31mTypeError\u001b[0m: get_user_credentials() missing 1 required positional argument: 'scopes'"
     ]
    }
   ],
   "source": [
    "scoped_credentials = pydata_google_auth.get_user_credentials(client_id=CLIENT_ID, client_secret= CLIENT_SECRET)"
   ]
  }
 ],
 "metadata": {
  "kernelspec": {
   "display_name": "Python 3",
   "language": "python",
   "name": "python3"
  },
  "language_info": {
   "codemirror_mode": {
    "name": "ipython",
    "version": 3
   },
   "file_extension": ".py",
   "mimetype": "text/x-python",
   "name": "python",
   "nbconvert_exporter": "python",
   "pygments_lexer": "ipython3",
   "version": "3.11.3"
  },
  "orig_nbformat": 4
 },
 "nbformat": 4,
 "nbformat_minor": 2
}
