{
 "cells": [
  {
   "cell_type": "code",
   "execution_count": 16,
   "metadata": {},
   "outputs": [],
   "source": [
    "import sqlite3\n",
    "import hashlib"
   ]
  },
  {
   "cell_type": "code",
   "execution_count": 13,
   "metadata": {},
   "outputs": [],
   "source": [
    "dbname = ('users.db')\n",
    "conn = sqlite3.connect(dbname, isolation_level=None)"
   ]
  },
  {
   "cell_type": "code",
   "execution_count": 14,
   "metadata": {},
   "outputs": [],
   "source": [
    "cursor = conn.cursor()\n",
    "sql = \"\"\"CREATE TABLE IF NOT EXISTS userinfo(id, password)\"\"\"\n",
    "\n",
    "cursor.execute(sql)\n",
    "conn.commit()\n",
    "\n",
    "sql = \"\"\"CREATE TABLE IF NOT EXISTS user_stock(id, securities_code, amount, buy_date)\"\"\"\n",
    "cursor.execute(sql)\n",
    "conn.commit()"
   ]
  },
  {
   "cell_type": "code",
   "execution_count": 15,
   "metadata": {},
   "outputs": [
    {
     "name": "stdout",
     "output_type": "stream",
     "text": [
      "('userinfo',)\n",
      "('user_stock',)\n"
     ]
    }
   ],
   "source": [
    "sql = \"\"\"SELECT name FROM sqlite_master WHERE TYPE='table'\"\"\"\n",
    "\n",
    "for t in cursor.execute(sql):\n",
    "    print(t)"
   ]
  },
  {
   "cell_type": "code",
   "execution_count": 19,
   "metadata": {},
   "outputs": [],
   "source": [
    "username = \"user\"\n",
    "password = \"Password\"\n",
    "\n",
    "password_hash = hashlib.sha256(password.encode()).hexdigest()"
   ]
  },
  {
   "cell_type": "code",
   "execution_count": 20,
   "metadata": {},
   "outputs": [],
   "source": [
    "sql = \"\"\"INSERT INTO userinfo VALUES(?, ?)\"\"\"\n",
    "\n",
    "data = ((username, password_hash))\n",
    "cursor.execute(sql, data)\n",
    "conn.commit()"
   ]
  },
  {
   "cell_type": "code",
   "execution_count": 22,
   "metadata": {},
   "outputs": [],
   "source": [
    "sql = \"\"\"INSERT INTO userinfo VALUES(?,?)\"\"\"\n",
    "\n",
    "data = [\n",
    "    (\"user2\", hashlib.sha256(\"Password2\".encode()).hexdigest()),\n",
    "    (\"user3\", hashlib.sha256(\"Password3\".encode()).hexdigest()),\n",
    "    (\"user4\", hashlib.sha256(\"Password4\".encode()).hexdigest()),\n",
    "    (\"user5\", hashlib.sha256(\"Password5\".encode()).hexdigest())\n",
    "]\n",
    "\n",
    "cursor.executemany(sql, data)\n",
    "conn.commit()"
   ]
  },
  {
   "cell_type": "code",
   "execution_count": 24,
   "metadata": {},
   "outputs": [
    {
     "name": "stdout",
     "output_type": "stream",
     "text": [
      "[('user', 'e7cf3ef4f17c3999a94f2c6f612e8a888e5b1026878e4e19398b23bd38ec221a'), ('user2', '1be0222750aaf3889ab95b5d593ba12e4ff1046474702d6b4779f4b527305b23'), ('user3', '2538f153f36161c45c3c90afaa3f9ccc5b0fa5554c7c582efe67193abb2d5202'), ('user4', 'db514f5b3285acaa1ad28290f5fefc38f2761a1f297b1d24f8129dd64638825d'), ('user5', '8180d5783fea9f86479e748f6d2d1196c4a8e143643119398c16367d2c3d50f2')]\n"
     ]
    }
   ],
   "source": [
    "sql = \"\"\"SELECT * FROM userinfo\"\"\"\n",
    "cursor.execute(sql)\n",
    "print(cursor.fetchall())"
   ]
  },
  {
   "cell_type": "code",
   "execution_count": 38,
   "metadata": {},
   "outputs": [
    {
     "name": "stdout",
     "output_type": "stream",
     "text": [
      "[('user', 'e7cf3ef4f17c3999a94f2c6f612e8a888e5b1026878e4e19398b23bd38ec221a')]\n",
      "<class 'list'>\n"
     ]
    }
   ],
   "source": [
    "sql = \"\"\"SELECT * FROM userinfo WHERE id = ?\"\"\"\n",
    "\n",
    "search_id = 'user'\n",
    "\n",
    "cursor.execute(sql,[search_id])\n",
    "print(cursor.fetchall())\n",
    "print(type(cursor.fetchall()))"
   ]
  },
  {
   "cell_type": "code",
   "execution_count": 11,
   "metadata": {},
   "outputs": [],
   "source": [
    "conn.close()"
   ]
  }
 ],
 "metadata": {
  "kernelspec": {
   "display_name": "Python 3",
   "language": "python",
   "name": "python3"
  },
  "language_info": {
   "codemirror_mode": {
    "name": "ipython",
    "version": 3
   },
   "file_extension": ".py",
   "mimetype": "text/x-python",
   "name": "python",
   "nbconvert_exporter": "python",
   "pygments_lexer": "ipython3",
   "version": "3.11.3"
  },
  "orig_nbformat": 4
 },
 "nbformat": 4,
 "nbformat_minor": 2
}
