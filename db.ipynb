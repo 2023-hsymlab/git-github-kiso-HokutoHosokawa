{
 "cells": [
  {
   "cell_type": "code",
   "execution_count": 36,
   "metadata": {},
   "outputs": [],
   "source": [
    "import sqlite3\n",
    "import hashlib\n",
    "import datetime"
   ]
  },
  {
   "cell_type": "code",
   "execution_count": 10,
   "metadata": {},
   "outputs": [],
   "source": [
    "dbname = ('users.db')\n",
    "conn = sqlite3.connect(dbname, isolation_level=None)"
   ]
  },
  {
   "cell_type": "code",
   "execution_count": 11,
   "metadata": {},
   "outputs": [],
   "source": [
    "cursor = conn.cursor()\n",
    "sql = \"\"\"CREATE TABLE IF NOT EXISTS userinfo(id, password)\"\"\"\n",
    "\n",
    "cursor.execute(sql)\n",
    "conn.commit()\n",
    "\n",
    "sql = \"\"\"CREATE TABLE IF NOT EXISTS user_stock(id, securities_code, amount, buy_date)\"\"\"\n",
    "cursor.execute(sql)\n",
    "conn.commit()"
   ]
  },
  {
   "cell_type": "code",
   "execution_count": 12,
   "metadata": {},
   "outputs": [
    {
     "name": "stdout",
     "output_type": "stream",
     "text": [
      "('userinfo',)\n",
      "('user_stock',)\n"
     ]
    }
   ],
   "source": [
    "sql = \"\"\"SELECT name FROM sqlite_master WHERE TYPE='table'\"\"\"\n",
    "\n",
    "for t in cursor.execute(sql):\n",
    "    print(t)"
   ]
  },
  {
   "cell_type": "code",
   "execution_count": 13,
   "metadata": {},
   "outputs": [],
   "source": [
    "username = \"user\"\n",
    "password = \"Password\"\n",
    "\n",
    "password_hash = hashlib.sha256(password.encode()).hexdigest()"
   ]
  },
  {
   "cell_type": "code",
   "execution_count": 14,
   "metadata": {},
   "outputs": [],
   "source": [
    "sql = \"\"\"INSERT INTO userinfo VALUES(?, ?)\"\"\"\n",
    "\n",
    "data = ((username, password_hash))\n",
    "cursor.execute(sql, data)\n",
    "conn.commit()"
   ]
  },
  {
   "cell_type": "code",
   "execution_count": 15,
   "metadata": {},
   "outputs": [],
   "source": [
    "sql = \"\"\"INSERT INTO userinfo VALUES(?,?)\"\"\"\n",
    "\n",
    "data = [\n",
    "    (\"user2\", hashlib.sha256(\"Password2\".encode()).hexdigest()),\n",
    "    (\"user3\", hashlib.sha256(\"Password3\".encode()).hexdigest()),\n",
    "    (\"user4\", hashlib.sha256(\"Password4\".encode()).hexdigest()),\n",
    "    (\"user5\", hashlib.sha256(\"Password5\".encode()).hexdigest())\n",
    "]\n",
    "\n",
    "cursor.executemany(sql, data)\n",
    "conn.commit()"
   ]
  },
  {
   "cell_type": "code",
   "execution_count": 16,
   "metadata": {},
   "outputs": [
    {
     "name": "stdout",
     "output_type": "stream",
     "text": [
      "[('user', 'e7cf3ef4f17c3999a94f2c6f612e8a888e5b1026878e4e19398b23bd38ec221a'), ('user2', '1be0222750aaf3889ab95b5d593ba12e4ff1046474702d6b4779f4b527305b23'), ('user3', '2538f153f36161c45c3c90afaa3f9ccc5b0fa5554c7c582efe67193abb2d5202'), ('user4', 'db514f5b3285acaa1ad28290f5fefc38f2761a1f297b1d24f8129dd64638825d'), ('user5', '8180d5783fea9f86479e748f6d2d1196c4a8e143643119398c16367d2c3d50f2')]\n"
     ]
    }
   ],
   "source": [
    "sql = \"\"\"SELECT * FROM userinfo\"\"\"\n",
    "cursor.execute(sql)\n",
    "print(cursor.fetchall())"
   ]
  },
  {
   "cell_type": "code",
   "execution_count": 30,
   "metadata": {},
   "outputs": [
    {
     "name": "stdout",
     "output_type": "stream",
     "text": [
      "[('user', 'e7cf3ef4f17c3999a94f2c6f612e8a888e5b1026878e4e19398b23bd38ec221a')]\n",
      "<class 'list'>\n"
     ]
    }
   ],
   "source": [
    "sql = \"\"\"SELECT * FROM userinfo WHERE id = ?\"\"\"\n",
    "###入力されたユーザーid\n",
    "search_id = 'user'\n",
    "\n",
    "cursor.execute(sql,[search_id])\n",
    "fit = cursor.fetchall()\n",
    "print(fit)\n",
    "print(type(fit))\n",
    "###ユーザーidとハッシュ関数にかけたパスワードがタプルで出力されるので、そのようなタプルを作成して比較する。"
   ]
  },
  {
   "cell_type": "code",
   "execution_count": 37,
   "metadata": {},
   "outputs": [
    {
     "name": "stdout",
     "output_type": "stream",
     "text": [
      "確認ができました\n",
      "[]\n",
      "[('user', 6758, 100, '2023-05-17 10:48:43.758242')]\n"
     ]
    }
   ],
   "source": [
    "###入力されたデータが保存されているものと一緒であるかどうかを確認する。\n",
    "received_pass = \"Password\"\n",
    "\n",
    "recPass_hash = hashlib.sha256(received_pass.encode()).hexdigest()\n",
    "user_tuple = (search_id, recPass_hash)\n",
    "\n",
    "if fit[0] == user_tuple:\n",
    "    print(\"確認ができました\")\n",
    "    sql = \"\"\"SELECT * FROM user_stock WHERE id = ?\"\"\"\n",
    "    cursor.execute(sql, [search_id])\n",
    "    hit = cursor.fetchall()\n",
    "    print(hit)\n",
    "    ###購入した株の証券コードやその量、購入日などの情報がユーザー情報と一緒に格納されている。\n",
    "    ###擬似的な購入手続きをいかに記す\n",
    "    securities_code = 6758\n",
    "    amount = 100\n",
    "    date = datetime.datetime.now()\n",
    "    if amount % 100 != 0:\n",
    "        print(\"日本の株は100株が基本単位となっています。\")\n",
    "    else:\n",
    "        data = ((search_id, securities_code, amount, date))\n",
    "        sql = \"\"\"INSERT INTO user_stock VALUES(?, ?, ?, ?)\"\"\"\n",
    "        cursor.execute(sql, data)\n",
    "        conn.commit()\n",
    "        sql = \"\"\"SELECT * FROM user_stock\"\"\"\n",
    "        cursor.execute(sql)\n",
    "        print(cursor.fetchall())\n",
    "        \n",
    "else:\n",
    "    print(\"ユーザーIDかパスワードが間違っています\")"
   ]
  },
  {
   "cell_type": "code",
   "execution_count": 11,
   "metadata": {},
   "outputs": [],
   "source": [
    "conn.close()"
   ]
  }
 ],
 "metadata": {
  "kernelspec": {
   "display_name": "Python 3",
   "language": "python",
   "name": "python3"
  },
  "language_info": {
   "codemirror_mode": {
    "name": "ipython",
    "version": 3
   },
   "file_extension": ".py",
   "mimetype": "text/x-python",
   "name": "python",
   "nbconvert_exporter": "python",
   "pygments_lexer": "ipython3",
   "version": "3.11.3"
  },
  "orig_nbformat": 4
 },
 "nbformat": 4,
 "nbformat_minor": 2
}
