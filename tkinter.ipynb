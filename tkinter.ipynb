{
 "cells": [
  {
   "cell_type": "code",
   "execution_count": 1,
   "metadata": {},
   "outputs": [
    {
     "ename": "",
     "evalue": "",
     "output_type": "error",
     "traceback": [
      "\u001b[1;31m現在のセルまたは前のセルでコードを実行中に、カーネルがクラッシュしました。エラーの原因を特定するには、セル内のコードを確認してください。詳細については、<a href='https://aka.ms/vscodeJupyterKernelCrash'>こちら</a> をクリックしてください。さらなる詳細については、Jupyter [log] (command:jupyter.viewOutput) を参照してください。"
     ]
    }
   ],
   "source": [
    "from tkinter import *\n",
    "from tkinter import ttk\n",
    "\n",
    "root = Tk()\n",
    "root.title('Button Example')\n",
    "\n",
    "frame1 = ttk.Frame(\n",
    "    root,\n",
    "    padding=10)\n",
    "frame1.grid()\n",
    "\n",
    "label1 = ttk.Label(\n",
    "    frame1)\n",
    "label1.grid(row=0, column=0)\n",
    "\n",
    "label2 = ttk.Label(\n",
    "    frame1,\n",
    "    text='Will schools be open this fall?',\n",
    "    width=20,\n",
    "    anchor=W,\n",
    "    padding=(20))\n",
    "label2.grid(row=0,column=1)\n",
    "\n",
    "button1 = ttk.Button(\n",
    "    frame1,\n",
    "    text='OK',\n",
    "    command=lambda: root.quit())\n",
    "button1.grid(row=1,column=0,columnspan=2)\n",
    "\n",
    "root.mainloop()"
   ]
  }
 ],
 "metadata": {
  "kernelspec": {
   "display_name": "Python 3",
   "language": "python",
   "name": "python3"
  },
  "language_info": {
   "codemirror_mode": {
    "name": "ipython",
    "version": 3
   },
   "file_extension": ".py",
   "mimetype": "text/x-python",
   "name": "python",
   "nbconvert_exporter": "python",
   "pygments_lexer": "ipython3",
   "version": "3.11.3"
  },
  "orig_nbformat": 4
 },
 "nbformat": 4,
 "nbformat_minor": 2
}
