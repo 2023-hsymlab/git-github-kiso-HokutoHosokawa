{
 "cells": [
  {
   "cell_type": "code",
   "execution_count": 4,
   "metadata": {},
   "outputs": [
    {
     "ename": "",
     "evalue": "",
     "output_type": "error",
     "traceback": [
      "\u001b[1;31m現在のセルまたは前のセルでコードを実行中に、カーネルがクラッシュしました。エラーの原因を特定するには、セル内のコードを確認してください。詳細については、<a href='https://aka.ms/vscodeJupyterKernelCrash'>こちら</a> をクリックしてください。さらなる詳細については、Jupyter [log] (command:jupyter.viewOutput) を参照してください。"
     ]
    }
   ],
   "source": [
    "from tkinter import *\n",
    "from tkinter import ttk\n",
    "\n",
    "root = Tk()\n",
    "root.geometry('300x200')\n",
    "root.title('バーチャルトレーディングシステム')\n",
    "\n",
    "frame = ttk.Frame(root)\n",
    "frame.pack(fill = BOTH, pady=20)\n",
    "\n",
    "frame_top = ttk.Frame(frame)\n",
    "frame_top.pack(expand = True)\n",
    "\n",
    "frame_bottom = ttk.Frame(frame)\n",
    "frame_bottom.pack(expand = True)\n",
    "\n",
    "label = ttk.Label(frame_top, text='ユーザー名')\n",
    "label.pack(side = LEFT)\n",
    "\n",
    "entry = ttk.Entry(frame_top)\n",
    "entry.pack(side = RIGHT)\n",
    "\n",
    "label2 = ttk.Label(frame_bottom, text='パスワード')\n",
    "label2.pack(side = LEFT)\n",
    "\n",
    "entry2 = ttk.Entry(frame_bottom)\n",
    "entry2.pack(side = RIGHT)\n",
    "\n",
    "link = ttk.Label(frame, text='パスワードを忘れた場合はこちら',foreground='blue',cursor='hand1',font=('MSゴシック', 10, 'underline'))\n",
    "link.pack()\n",
    "\n",
    "root.mainloop()"
   ]
  }
 ],
 "metadata": {
  "kernelspec": {
   "display_name": "Python 3",
   "language": "python",
   "name": "python3"
  },
  "language_info": {
   "codemirror_mode": {
    "name": "ipython",
    "version": 3
   },
   "file_extension": ".py",
   "mimetype": "text/x-python",
   "name": "python",
   "nbconvert_exporter": "python",
   "pygments_lexer": "ipython3",
   "version": "3.11.3"
  },
  "orig_nbformat": 4
 },
 "nbformat": 4,
 "nbformat_minor": 2
}
