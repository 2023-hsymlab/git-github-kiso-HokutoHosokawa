{
 "cells": [
  {
   "cell_type": "code",
   "execution_count": 2,
   "metadata": {},
   "outputs": [
    {
     "name": "stdout",
     "output_type": "stream",
     "text": [
      "I come here\n"
     ]
    }
   ],
   "source": [
    "from tkinter import *\n",
    "from tkinter import ttk\n",
    "\n",
    "def forget_pass():\n",
    "    \"\"\"\n",
    "    ここはパスワードを忘れた場合である。\n",
    "\n",
    "    ユーザー名に対応したメールアドレス（または入力してもらったシステムに使用しているメールアドレス)に仮パスワード（認証コード)を送る\n",
    "    仮パスワードをシステムに入力してもらい、本人確認が取れたらパスワード変更画面に遷移\n",
    "    パスワード変更完了\n",
    "    \"\"\"\n",
    "    print('I come here')\n",
    "    global frame_forget\n",
    "\n",
    "    frame.destroy()\n",
    "\n",
    "    frame_forget = ttk.Frame(root)\n",
    "\n",
    "def make_account():\n",
    "    \"\"\"\n",
    "    ここは、新規アカウントの作成を行う場合である。\n",
    "\n",
    "    メールアドレスの入力（すでに使われているメールアドレスでないかどうかの確認)\n",
    "    入力してもらったメールアドレスに仮パスワードを送信\n",
    "    仮パスワードを入力してもらい、本人確認が取れたら本パスワードを作ってもらう。（半角英数字、記号、文字数制限)\n",
    "    登録完了\n",
    "    \"\"\"\n",
    "\n",
    "root = Tk()\n",
    "root.geometry('300x200')\n",
    "root.title('バーチャルトレーディングシステム')\n",
    "\n",
    "frame = ttk.Frame(root)\n",
    "frame.pack(fill = BOTH, pady=20)\n",
    "\n",
    "frame_top = ttk.Frame(frame)\n",
    "frame_top.pack(expand = True)\n",
    "\n",
    "frame_bottom = ttk.Frame(frame)\n",
    "frame_bottom.pack(expand = True)\n",
    "\n",
    "label = ttk.Label(frame_top, text='ユーザー名')\n",
    "label.pack(side = LEFT)\n",
    "\n",
    "entry = ttk.Entry(frame_top)\n",
    "entry.pack(side = RIGHT)\n",
    "\n",
    "label2 = ttk.Label(frame_bottom, text='パスワード')\n",
    "label2.pack(side = LEFT)\n",
    "\n",
    "entry2 = ttk.Entry(frame_bottom, show='*')\n",
    "entry2.pack(side = RIGHT)\n",
    "###パスワードは半角英数、記号だけで構成されているかどうかを確認する必要あり。\n",
    "\n",
    "link = ttk.Label(frame, text='パスワードを忘れた場合はこちら',foreground='blue',cursor='hand1',font=('MSゴシック', 12, 'underline'))\n",
    "link.pack()\n",
    "link.bind(\"<Button-1>\",lambda e:forget_pass())\n",
    "\n",
    "link2 = ttk.Label(frame, text='新規登録はこちら',foreground='blue',cursor='hand1',font=('MSゴシック',12,'underline'))\n",
    "link2.pack()\n",
    "root.mainloop()"
   ]
  }
 ],
 "metadata": {
  "kernelspec": {
   "display_name": "Python 3",
   "language": "python",
   "name": "python3"
  },
  "language_info": {
   "codemirror_mode": {
    "name": "ipython",
    "version": 3
   },
   "file_extension": ".py",
   "mimetype": "text/x-python",
   "name": "python",
   "nbconvert_exporter": "python",
   "pygments_lexer": "ipython3",
   "version": "3.11.3"
  },
  "orig_nbformat": 4
 },
 "nbformat": 4,
 "nbformat_minor": 2
}
